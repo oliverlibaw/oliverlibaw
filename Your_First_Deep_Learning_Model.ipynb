{
  "nbformat": 4,
  "nbformat_minor": 0,
  "metadata": {
    "colab": {
      "name": "Your First Deep Learning Model",
      "provenance": [],
      "include_colab_link": true
    },
    "kernelspec": {
      "name": "python3",
      "display_name": "Python 3"
    },
    "language_info": {
      "name": "python"
    },
    "accelerator": "GPU",
    "gpuClass": "standard"
  },
  "cells": [
    {
      "cell_type": "markdown",
      "metadata": {
        "id": "view-in-github",
        "colab_type": "text"
      },
      "source": [
        "<a href=\"https://colab.research.google.com/github/oliverlibaw/oliverlibaw/blob/main/Your_First_Deep_Learning_Model.ipynb\" target=\"_parent\"><img src=\"https://colab.research.google.com/assets/colab-badge.svg\" alt=\"Open In Colab\"/></a>"
      ]
    },
    {
      "cell_type": "markdown",
      "source": [
        "# Your First Deep Learning Model\n",
        "\n",
        "This is a step-by-step guide of how to train a deep learning model using Convolutional Neural Networks to recognize handwritten digits."
      ],
      "metadata": {
        "id": "krBmkL8uRAbY"
      }
    },
    {
      "cell_type": "markdown",
      "source": [
        "First, let's install Comet.ml and initialize it. The first time you run this cell, you'll need to paste the API Key from your Comet.ml account.\n",
        "\n",
        "Comet.ml will monitor training, logging metrics, parameters, and histograms to your code without requiring you to do anything other than adding these lines of code, and setting the experiment parameters to the appropriate values for what you would like to log:"
      ],
      "metadata": {
        "id": "ZL4DbHOBRJQL"
      }
    },
    {
      "cell_type": "code",
      "execution_count": null,
      "metadata": {
        "colab": {
          "base_uri": "https://localhost:8080/"
        },
        "id": "NaHY3xZLNDCD",
        "outputId": "21fd7056-f73f-47ac-fc22-a20d732200f4"
      },
      "outputs": [
        {
          "output_type": "stream",
          "name": "stdout",
          "text": [
            "Looking in indexes: https://pypi.org/simple, https://us-python.pkg.dev/colab-wheels/public/simple/\n",
            "Requirement already satisfied: comet-ml in /usr/local/lib/python3.7/dist-packages (3.31.7)\n",
            "Requirement already satisfied: nvidia-ml-py3>=7.352.0 in /usr/local/lib/python3.7/dist-packages (from comet-ml) (7.352.0)\n",
            "Requirement already satisfied: wurlitzer>=1.0.2 in /usr/local/lib/python3.7/dist-packages (from comet-ml) (3.0.2)\n",
            "Requirement already satisfied: requests>=2.18.4 in /usr/local/lib/python3.7/dist-packages (from comet-ml) (2.23.0)\n",
            "Requirement already satisfied: wrapt>=1.11.2 in /usr/local/lib/python3.7/dist-packages (from comet-ml) (1.14.1)\n",
            "Requirement already satisfied: semantic-version>=2.8.0 in /usr/local/lib/python3.7/dist-packages (from comet-ml) (2.10.0)\n",
            "Requirement already satisfied: sentry-sdk>=1.1.0 in /usr/local/lib/python3.7/dist-packages (from comet-ml) (1.8.0)\n",
            "Requirement already satisfied: websocket-client>=0.55.0 in /usr/local/lib/python3.7/dist-packages (from comet-ml) (1.3.3)\n",
            "Requirement already satisfied: requests-toolbelt>=0.8.0 in /usr/local/lib/python3.7/dist-packages (from comet-ml) (0.9.1)\n",
            "Requirement already satisfied: everett[ini]>=1.0.1 in /usr/local/lib/python3.7/dist-packages (from comet-ml) (3.0.0)\n",
            "Requirement already satisfied: dulwich!=0.20.33,>=0.20.6 in /usr/local/lib/python3.7/dist-packages (from comet-ml) (0.20.45)\n",
            "Requirement already satisfied: jsonschema!=3.1.0,>=2.6.0 in /usr/local/lib/python3.7/dist-packages (from comet-ml) (4.3.3)\n",
            "Requirement already satisfied: six in /usr/local/lib/python3.7/dist-packages (from comet-ml) (1.15.0)\n",
            "Requirement already satisfied: urllib3>=1.24.1 in /usr/local/lib/python3.7/dist-packages (from dulwich!=0.20.33,>=0.20.6->comet-ml) (1.24.3)\n",
            "Requirement already satisfied: certifi in /usr/local/lib/python3.7/dist-packages (from dulwich!=0.20.33,>=0.20.6->comet-ml) (2022.6.15)\n",
            "Requirement already satisfied: configobj in /usr/local/lib/python3.7/dist-packages (from everett[ini]>=1.0.1->comet-ml) (5.0.6)\n",
            "Requirement already satisfied: pyrsistent!=0.17.0,!=0.17.1,!=0.17.2,>=0.14.0 in /usr/local/lib/python3.7/dist-packages (from jsonschema!=3.1.0,>=2.6.0->comet-ml) (0.18.1)\n",
            "Requirement already satisfied: importlib-resources>=1.4.0 in /usr/local/lib/python3.7/dist-packages (from jsonschema!=3.1.0,>=2.6.0->comet-ml) (5.8.0)\n",
            "Requirement already satisfied: importlib-metadata in /usr/local/lib/python3.7/dist-packages (from jsonschema!=3.1.0,>=2.6.0->comet-ml) (4.12.0)\n",
            "Requirement already satisfied: attrs>=17.4.0 in /usr/local/lib/python3.7/dist-packages (from jsonschema!=3.1.0,>=2.6.0->comet-ml) (21.4.0)\n",
            "Requirement already satisfied: typing-extensions in /usr/local/lib/python3.7/dist-packages (from jsonschema!=3.1.0,>=2.6.0->comet-ml) (4.1.1)\n",
            "Requirement already satisfied: zipp>=3.1.0 in /usr/local/lib/python3.7/dist-packages (from importlib-resources>=1.4.0->jsonschema!=3.1.0,>=2.6.0->comet-ml) (3.8.1)\n",
            "Requirement already satisfied: idna<3,>=2.5 in /usr/local/lib/python3.7/dist-packages (from requests>=2.18.4->comet-ml) (2.10)\n",
            "Requirement already satisfied: chardet<4,>=3.0.2 in /usr/local/lib/python3.7/dist-packages (from requests>=2.18.4->comet-ml) (3.0.4)\n"
          ]
        },
        {
          "output_type": "stream",
          "name": "stderr",
          "text": [
            "COMET INFO: Comet API key is valid\n",
            "COMET INFO: ---------------------------\n",
            "COMET INFO: Comet.ml Experiment Summary\n",
            "COMET INFO: ---------------------------\n",
            "COMET INFO:   Data:\n",
            "COMET INFO:     display_summary_level : 1\n",
            "COMET INFO:     url                   : https://www.comet.com/svpino/general/711f557810b5464db85e0da989e4308f\n",
            "COMET INFO:   Others:\n",
            "COMET INFO:     notebook_url : https://colab.research.google.com/notebook#fileId=1eY1oBKaknSTwdCesLLozwXepFGO_gTUn\n",
            "COMET INFO:   Uploads:\n",
            "COMET INFO:     environment details : 1\n",
            "COMET INFO:     filename            : 1\n",
            "COMET INFO:     installed packages  : 1\n",
            "COMET INFO:     notebook            : 2\n",
            "COMET INFO:     os packages         : 1\n",
            "COMET INFO:     source_code         : 1\n",
            "COMET INFO: ---------------------------\n",
            "COMET WARNING: As you are running in a Jupyter environment, you will need to call `experiment.end()` when finished to ensure all metrics and code are logged before exiting.\n",
            "COMET ERROR: Failed to calculate active processors count. Fall back to default CPU count 1\n",
            "COMET INFO: Couldn't find a Git repository in '/content' nor in any parent directory. You can override where Comet is looking for a Git Patch by setting the configuration `COMET_GIT_DIRECTORY`\n",
            "COMET INFO: Experiment is live on comet.ml https://www.comet.com/svpino/general/baff2e45db5b4988a66c9b34c903efc1\n",
            "\n"
          ]
        }
      ],
      "source": [
        "!pip install comet-ml\n",
        "\n",
        "import comet_ml\n",
        "from comet_ml import Experiment\n",
        "\n",
        "comet_ml.init()\n",
        "\n",
        "experiment = Experiment(\n",
        "    auto_metric_logging=True,\n",
        "    auto_param_logging=True,\n",
        "    auto_histogram_weight_logging=True,\n",
        "    auto_histogram_gradient_logging=True,\n",
        "    auto_histogram_activation_logging=True,\n",
        ")"
      ]
    },
    {
      "cell_type": "code",
      "source": [
        "import numpy as np\n",
        "import pandas as pd\n",
        "import random\n",
        "import tensorflow as tf\n",
        "import matplotlib.pyplot as plt\n",
        "\n",
        "from sklearn.metrics import accuracy_score\n",
        "\n",
        "from tensorflow.keras.models import Sequential\n",
        "from tensorflow.keras.layers import Flatten, Conv2D, Dense, MaxPooling2D\n",
        "from tensorflow.keras.optimizers import SGD\n",
        "from tensorflow.keras.utils import to_categorical\n",
        "from tensorflow.keras.datasets import mnist"
      ],
      "metadata": {
        "id": "FeD_OxsCNEUg"
      },
      "execution_count": null,
      "outputs": []
    },
    {
      "cell_type": "markdown",
      "source": [
        "# Loading and transforming the data\n",
        "\n",
        "Loading the MNIST dataset is very simple using Keras. You can use access it through `datasets.mnist` and use the `load_data()` function to get a train and a test set.\n",
        "\n",
        "The dataset contains 28x28 images of handwritten digits."
      ],
      "metadata": {
        "id": "_yq51D-9RZBT"
      }
    },
    {
      "cell_type": "code",
      "source": [
        "(X_train, y_train), (X_test, y_test) = mnist.load_data()"
      ],
      "metadata": {
        "id": "TXbx2_CqPVtQ"
      },
      "execution_count": null,
      "outputs": []
    },
    {
      "cell_type": "markdown",
      "source": [
        "If you print the shape the any of the sets you will see more information about the samples.\n",
        "\n",
        "For example, printing the shape of the train set will get you `(60000, 28, 28)`:\n",
        "\n",
        "* `60000`: This is the number of samples in the set.\n",
        "* `28`: This is the height of each image.\n",
        "* `28`: This is the width of each image.\n",
        "\n",
        "So we have 60,000 28x28 images."
      ],
      "metadata": {
        "id": "RrcJnqhNSks9"
      }
    },
    {
      "cell_type": "code",
      "source": [
        "print(X_train.shape)"
      ],
      "metadata": {
        "colab": {
          "base_uri": "https://localhost:8080/"
        },
        "id": "lY8j6U55RrFB",
        "outputId": "be29c39e-313f-44ad-c194-7223136746b4"
      },
      "execution_count": null,
      "outputs": [
        {
          "output_type": "stream",
          "name": "stdout",
          "text": [
            "(60000, 28, 28)\n"
          ]
        }
      ]
    },
    {
      "cell_type": "markdown",
      "source": [
        "Anytime you are using a neural network, you should pay special attention to the range of the input values you will be feeding it. In our case, each image is a matrix of 28x28 pixels. \n",
        "\n",
        "Let's print the range of these values to understand what's the scale we are working with:"
      ],
      "metadata": {
        "id": "-ZO8nPv7StDX"
      }
    },
    {
      "cell_type": "code",
      "source": [
        "X_train[0].min(), X_train[0].max()"
      ],
      "metadata": {
        "colab": {
          "base_uri": "https://localhost:8080/"
        },
        "id": "VVk2alV3SqGo",
        "outputId": "51defb88-c1b9-4844-ebc8-21f73add7ded"
      },
      "execution_count": null,
      "outputs": [
        {
          "output_type": "execute_result",
          "data": {
            "text/plain": [
              "(0, 255)"
            ]
          },
          "metadata": {},
          "execution_count": 21
        }
      ]
    },
    {
      "cell_type": "markdown",
      "source": [
        "The pixel values in our images are between 0 (black) to 255 (white). \n",
        "\n",
        "Neural networks have a much easier time working with values that don't vary a lot in scale. It's a common practice to scale every input to fit a small range like 0 to 1 or -1 to 1.\n",
        "\n",
        "We should do that here, and scale our pixels to a range that goes from 0 (black) to 1 (white). \n",
        "\n",
        "Here is the formula to scale a value: `scaled_value = (original_value – min) / (max – min)`. In our case, the minimum value is 0 and the maximum value is 255.\n",
        "\n",
        "Let's use this to scale our train and test sets (notice that you can get rid of the `0.0` in the formula below but I'm leaving them there for clarity purposes):"
      ],
      "metadata": {
        "id": "mqg8WoH_S1r-"
      }
    },
    {
      "cell_type": "code",
      "source": [
        "X_train = (X_train - 0.0) / (255.0 - 0.0)\n",
        "X_test = (X_test - 0.0) / (255.0 - 0.0)\n",
        "\n",
        "X_train[0].min(), X_train[0].max()"
      ],
      "metadata": {
        "colab": {
          "base_uri": "https://localhost:8080/"
        },
        "id": "bLCDh1IXSyql",
        "outputId": "0481299c-a5ac-41ba-ac99-1d4ff02326ea"
      },
      "execution_count": null,
      "outputs": [
        {
          "output_type": "execute_result",
          "data": {
            "text/plain": [
              "(0.0, 1.0)"
            ]
          },
          "metadata": {},
          "execution_count": 22
        }
      ]
    },
    {
      "cell_type": "markdown",
      "source": [
        "We can now plot the first 20 images on the train set:"
      ],
      "metadata": {
        "id": "HaRvuBfYTkrF"
      }
    },
    {
      "cell_type": "code",
      "source": [
        "def plot_digit(image, digit, plt, i):\n",
        "    plt.subplot(4, 5, i + 1)\n",
        "    plt.imshow(image, cmap=plt.get_cmap('gray'))\n",
        "    plt.title(f\"Digit: {digit}\")\n",
        "    plt.xticks([])\n",
        "    plt.yticks([])\n",
        "\n",
        "\n",
        "plt.figure(figsize=(16, 10))\n",
        "for i in range(20):\n",
        "    plot_digit(X_train[i], y_train[i], plt, i)\n",
        "    \n",
        "plt.show()"
      ],
      "metadata": {
        "colab": {
          "base_uri": "https://localhost:8080/",
          "height": 594
        },
        "id": "0DOK_IJTTDaK",
        "outputId": "60b7dfd7-9fc6-4a50-a5da-57da346bf9e3"
      },
      "execution_count": null,
      "outputs": [
        {
          "output_type": "display_data",
          "data": {
            "text/plain": [
              "<Figure size 1152x720 with 20 Axes>"
            ],
            "image/png": "[encoded data removed]"
          },
          "metadata": {}
        }
      ]
    },
    {
      "cell_type": "markdown",
      "source": [
        "We use 4 dimensions to represent a set of images:\n",
        "\n",
        "1. The total number of images (we call this \"*batch size*\")\n",
        "2. The width of each image\n",
        "3. The height of each image\n",
        "4. The number of channels of each image\n",
        "\n",
        "As you saw before, our train set has 3 dimensions only; we are missing the number of channels. We need to transform our data by adding that fourth dimension. Since these images are grayscale, that fourth dimension will be 1.\n",
        "\n",
        "We can use numpy's `reshape()` function to reshape all of the data by adding that extra dimension."
      ],
      "metadata": {
        "id": "YVhEWJwqT34I"
      }
    },
    {
      "cell_type": "code",
      "source": [
        "X_train = X_train.reshape((X_train.shape + (1,)))\n",
        "X_test = X_test.reshape((X_test.shape + (1,)))"
      ],
      "metadata": {
        "id": "pQwYbh8ITiGO"
      },
      "execution_count": null,
      "outputs": []
    },
    {
      "cell_type": "markdown",
      "source": [
        "Finally, let's take a look at the format of our target values (`y_train`). Let's print the first 20 samples in our train set:"
      ],
      "metadata": {
        "id": "DXTqZTeiUi9R"
      }
    },
    {
      "cell_type": "code",
      "source": [
        "y_train[0:20]"
      ],
      "metadata": {
        "colab": {
          "base_uri": "https://localhost:8080/"
        },
        "id": "FNhSJrgzUjn4",
        "outputId": "ca8f1d64-5cf4-4a96-f6d3-1fcef924209b"
      },
      "execution_count": null,
      "outputs": [
        {
          "output_type": "execute_result",
          "data": {
            "text/plain": [
              "array([5, 0, 4, 1, 9, 2, 1, 3, 1, 4, 3, 5, 3, 6, 1, 7, 2, 8, 6, 9],\n",
              "      dtype=uint8)"
            ]
          },
          "metadata": {},
          "execution_count": 25
        }
      ]
    },
    {
      "cell_type": "markdown",
      "source": [
        "We are representing the target digits using integers (the digit 5 is represented with value 5, the digit 0 with value 0, etc.) This is important because it determines which loss function we should use to optimize our neural network.\n",
        "\n",
        "We have two options:\n",
        "\n",
        "1. Use integers for our target values (as they are now), and make sure we use the \"Sparse Categorical Cross-Entropy\" loss function.\n",
        "2. One-hot encode the targets and use the \"Categorical Cross-Entropy\" loss function.\n",
        "\n",
        "The easiest solution is to leave the targets as they are, so let's move on to creating the model."
      ],
      "metadata": {
        "id": "YeKaPIiVUpul"
      }
    },
    {
      "cell_type": "markdown",
      "source": [
        "# Building the model\n",
        "\n",
        "There are several ways to create a model in Keras. In this example, we are going to use Keras' Sequential API because it's very simple to use.\n",
        "\n",
        "Let's break down the definition of the model below step by step:\n",
        "\n",
        "1. First, we are going to define the first hidden layer of our network: A convolutional layer with 32 filters and a 3x3 kernel. This layer will use a ReLU activation function. The goal of this layer is to generate 32 different representations of an image, each one of 26x26. The 3x3 kernel will discard a pixel on each side of the original image and that's way we get 26x26 feature maps instead of 28x28.\n",
        "\n",
        "2. Notice how we also need to define the input shape of the network as part of that first layer. Remember that our images are 28x28 with a single color channel, so that leads to the `(28, 28, 1)` shape.\n",
        "\n",
        "3. Right after that first layer, we are going to do a 2x2 max pooling to downsample the amount of information generated by the convolutional layer. This operation will half the size of the filters. Remember we start with 32 filters of 26x26, so after this operation will have 32 filters of 13x13.\n",
        "\n",
        "4. We then take the `(13, 13, 32)` vector and flatten it to a (5408,) vector. Notice that 13 x 13 x 32 = 5408.\n",
        "\n",
        "5. Finally, we add a couple more fully-connected layers (also called `Dense` layers.) Notice how the output layer has size 10 (one for each of our possible digit values) and a `softmax` activation. Softmax ensures we get a probability distribution indicating the most likely digit in the image."
      ],
      "metadata": {
        "id": "ofw5HLmSUxZ8"
      }
    },
    {
      "cell_type": "code",
      "source": [
        "model = Sequential([\n",
        "    Conv2D(32, (3, 3), activation=\"relu\", input_shape=(28, 28, 1)),\n",
        "    MaxPooling2D((2, 2)),\n",
        "    Flatten(),\n",
        "    Dense(100, activation=\"relu\"),\n",
        "    Dense(10, activation=\"softmax\")\n",
        "])"
      ],
      "metadata": {
        "id": "yiBUcxhYUm-p"
      },
      "execution_count": null,
      "outputs": []
    },
    {
      "cell_type": "markdown",
      "source": [
        "We now have our model. The next step is to define how we want to train it:\n",
        "\n",
        "1. Let's use an `SGD` optimizer (Stochastic Gradient Descent) with `0.01` as the learning rate.\n",
        "2. As we discussed before, we need to use the `sparse_categorical_crossentropy` loss because our target values are represented as integers.\n",
        "3. And we are going to compute `accuracy` of our model as we train it.\n",
        "\n",
        "Notice in the summary of the model the shape of the vectors as they move through the layers we defined. They should look familiar after reading the explanation of our model above."
      ],
      "metadata": {
        "id": "lIlWgtLSX4_v"
      }
    },
    {
      "cell_type": "code",
      "source": [
        "optimizer = SGD(learning_rate=0.01, momentum=0.9)\n",
        "model.compile(\n",
        "    optimizer=optimizer, \n",
        "    loss=\"sparse_categorical_crossentropy\", \n",
        "    metrics=[\"accuracy\"]\n",
        ")\n",
        "model.summary()"
      ],
      "metadata": {
        "colab": {
          "base_uri": "https://localhost:8080/"
        },
        "id": "hEque5qPVLHs",
        "outputId": "5be256eb-cd40-450d-fc61-5539fee6f2d1"
      },
      "execution_count": null,
      "outputs": [
        {
          "output_type": "stream",
          "name": "stdout",
          "text": [
            "Model: \"sequential_1\"\n",
            "_________________________________________________________________\n",
            " Layer (type)                Output Shape              Param #   \n",
            "=================================================================\n",
            " conv2d_1 (Conv2D)           (None, 26, 26, 32)        320       \n",
            "                                                                 \n",
            " max_pooling2d_1 (MaxPooling  (None, 13, 13, 32)       0         \n",
            " 2D)                                                             \n",
            "                                                                 \n",
            " flatten_1 (Flatten)         (None, 5408)              0         \n",
            "                                                                 \n",
            " dense_2 (Dense)             (None, 100)               540900    \n",
            "                                                                 \n",
            " dense_3 (Dense)             (None, 10)                1010      \n",
            "                                                                 \n",
            "=================================================================\n",
            "Total params: 542,230\n",
            "Trainable params: 542,230\n",
            "Non-trainable params: 0\n",
            "_________________________________________________________________\n"
          ]
        }
      ]
    },
    {
      "cell_type": "markdown",
      "source": [
        "# Training and testing the model\n",
        "\n",
        "At this point we are ready to fit our model on the train set.\n",
        "\n",
        "For this example, we are going to run batches of 32 samples through our model for 10 iterations (epochs.) This should be enough to get a model with good predictive capabilities.\n",
        "\n",
        "*Note: This network is fairly shallow so it shouldn't take a long time to train it on a CPU. If you have access to a GPU it should be much faster.*"
      ],
      "metadata": {
        "id": "x6l9eDwdYrv2"
      }
    },
    {
      "cell_type": "code",
      "source": [
        "model.fit(X_train, y_train, epochs=10, batch_size=32)"
      ],
      "metadata": {
        "colab": {
          "base_uri": "https://localhost:8080/"
        },
        "id": "otj6GS8gX9NR",
        "outputId": "7e6d976a-710d-464d-eae1-c19c6551deec"
      },
      "execution_count": null,
      "outputs": [
        {
          "output_type": "stream",
          "name": "stdout",
          "text": [
            "Epoch 1/10\n",
            "1875/1875 [==============================] - 5s 3ms/step - loss: 0.2362 - accuracy: 0.9279\n",
            "Epoch 2/10\n",
            "1875/1875 [==============================] - 5s 2ms/step - loss: 0.0772 - accuracy: 0.9768\n",
            "Epoch 3/10\n",
            "1875/1875 [==============================] - 4s 2ms/step - loss: 0.0502 - accuracy: 0.9848\n",
            "Epoch 4/10\n",
            "1875/1875 [==============================] - 5s 2ms/step - loss: 0.0363 - accuracy: 0.9890\n",
            "Epoch 5/10\n",
            "1875/1875 [==============================] - 5s 2ms/step - loss: 0.0275 - accuracy: 0.9919\n",
            "Epoch 6/10\n",
            "1875/1875 [==============================] - 5s 2ms/step - loss: 0.0210 - accuracy: 0.9933\n",
            "Epoch 7/10\n",
            "1875/1875 [==============================] - 5s 2ms/step - loss: 0.0143 - accuracy: 0.9955\n",
            "Epoch 8/10\n",
            "1875/1875 [==============================] - 5s 2ms/step - loss: 0.0102 - accuracy: 0.9974\n",
            "Epoch 9/10\n",
            "1875/1875 [==============================] - 4s 2ms/step - loss: 0.0083 - accuracy: 0.9979\n",
            "Epoch 10/10\n",
            "1875/1875 [==============================] - 4s 2ms/step - loss: 0.0056 - accuracy: 0.9988\n"
          ]
        },
        {
          "output_type": "execute_result",
          "data": {
            "text/plain": [
              "<keras.callbacks.History at 0x7f3d46550a10>"
            ]
          },
          "metadata": {},
          "execution_count": 28
        }
      ]
    },
    {
      "cell_type": "markdown",
      "source": [
        "At this point you should have a model that scored above 99% accuracy on the train set. \n",
        "\n",
        "Now it's time to test it with a few of the images that we set aside on our test set. Let's run 20 random images through t\\he model and display them together with the predicted digit:"
      ],
      "metadata": {
        "id": "wVQKzfCFZE6U"
      }
    },
    {
      "cell_type": "code",
      "source": [
        "plt.figure(figsize=(16, 10))\n",
        "for i in range(20):\n",
        "    image = random.choice(X_test).squeeze()\n",
        "    digit = np.argmax(model.predict(image.reshape((1, 28, 28, 1)))[0], axis=-1)\n",
        "    plot_digit(image, digit, plt, i)\n",
        "\n",
        "plt.show()"
      ],
      "metadata": {
        "colab": {
          "base_uri": "https://localhost:8080/",
          "height": 594
        },
        "id": "bvJyu5CWYzAs",
        "outputId": "e7954569-856a-4e2f-f5d5-b6505192c734"
      },
      "execution_count": null,
      "outputs": [
        {
          "output_type": "display_data",
          "data": {
            "text/plain": [
              "<Figure size 1152x720 with 20 Axes>"
            ],
            "image/png": "[encoded data removed]"
          },
          "metadata": {}
        }
      ]
    },
    {
      "cell_type": "markdown",
      "source": [
        "The results look pretty good! \n",
        "\n",
        "To get a much better idea about the quality of the predictions, we can run the entire test set (10,000 images) through the model and compute the final accuracy. To do this we can use the `accuracy_score()` function from SciKit-Learn passing a couple of arguments:\n",
        "\n",
        "* True values: The correct digit expected for each image. These are the values we have stored in `y_test`.\n",
        "* Predicted values: The predictions that our model made. These are the results of our model.\n",
        "\n",
        "The final accuracy will be the value printed after running the cell."
      ],
      "metadata": {
        "id": "19IjpLYbZKyU"
      }
    },
    {
      "cell_type": "code",
      "source": [
        "predictions = np.argmax(model.predict(X_test), axis=-1)\n",
        "accuracy_score(y_test, predictions)\n",
        "experiment.log_confusion_matrix(y_test, predictions)"
      ],
      "metadata": {
        "colab": {
          "base_uri": "https://localhost:8080/"
        },
        "id": "2gaRMS17ZH3S",
        "outputId": "23f829dd-e01a-4742-bf9a-139c06db89b6"
      },
      "execution_count": null,
      "outputs": [
        {
          "output_type": "execute_result",
          "data": {
            "text/plain": [
              "{'api': 'https://www.comet.com/api/rest/v2/experiment/asset/get-asset?assetId=20ee157ce5ca411ab514b5b156758650&experimentKey=baff2e45db5b4988a66c9b34c903efc1',\n",
              " 'assetId': '20ee157ce5ca411ab514b5b156758650',\n",
              " 'web': 'https://www.comet.com/api/asset/download?assetId=20ee157ce5ca411ab514b5b156758650&experimentKey=baff2e45db5b4988a66c9b34c903efc1'}"
            ]
          },
          "metadata": {},
          "execution_count": 30
        }
      ]
    },
    {
      "cell_type": "code",
      "source": [
        ""
      ],
      "metadata": {
        "id": "uppUd7K0ZO5D"
      },
      "execution_count": null,
      "outputs": []
    }
  ]
}